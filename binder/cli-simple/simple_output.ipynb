{
 "cells": [
  {
   "cell_type": "markdown",
   "metadata": {
    "papermill": {
     "duration": 0.00964,
     "end_time": "2020-08-17T19:57:24.239226",
     "exception": false,
     "start_time": "2020-08-17T19:57:24.229586",
     "status": "completed"
    },
    "tags": []
   },
   "source": [
    "# Simple input notebook with parameters"
   ]
  },
  {
   "cell_type": "code",
   "execution_count": 1,
   "metadata": {
    "execution": {
     "iopub.execute_input": "2020-08-17T19:57:24.263404Z",
     "iopub.status.busy": "2020-08-17T19:57:24.262659Z",
     "iopub.status.idle": "2020-08-17T19:57:24.265395Z",
     "shell.execute_reply": "2020-08-17T19:57:24.264689Z"
    },
    "papermill": {
     "duration": 0.012719,
     "end_time": "2020-08-17T19:57:24.265567",
     "exception": false,
     "start_time": "2020-08-17T19:57:24.252848",
     "status": "completed"
    },
    "tags": [
     "parameters"
    ]
   },
   "outputs": [],
   "source": [
    "msg = None"
   ]
  },
  {
   "cell_type": "code",
   "execution_count": 2,
   "metadata": {
    "execution": {
     "iopub.execute_input": "2020-08-17T19:57:24.274405Z",
     "iopub.status.busy": "2020-08-17T19:57:24.273934Z",
     "iopub.status.idle": "2020-08-17T19:57:24.276194Z",
     "shell.execute_reply": "2020-08-17T19:57:24.275695Z"
    },
    "papermill": {
     "duration": 0.007713,
     "end_time": "2020-08-17T19:57:24.276300",
     "exception": false,
     "start_time": "2020-08-17T19:57:24.268587",
     "status": "completed"
    },
    "tags": [
     "injected-parameters"
    ]
   },
   "outputs": [],
   "source": [
    "# Parameters\n",
    "msg = \"Hello\"\n"
   ]
  },
  {
   "cell_type": "code",
   "execution_count": 3,
   "metadata": {
    "execution": {
     "iopub.execute_input": "2020-08-17T19:57:24.283119Z",
     "iopub.status.busy": "2020-08-17T19:57:24.282711Z",
     "iopub.status.idle": "2020-08-17T19:57:24.284846Z",
     "shell.execute_reply": "2020-08-17T19:57:24.284482Z"
    },
    "papermill": {
     "duration": 0.006366,
     "end_time": "2020-08-17T19:57:24.284929",
     "exception": false,
     "start_time": "2020-08-17T19:57:24.278563",
     "status": "completed"
    },
    "tags": []
   },
   "outputs": [
    {
     "name": "stdout",
     "output_type": "stream",
     "text": [
      "Hello\n"
     ]
    }
   ],
   "source": [
    "print(msg)"
   ]
  }
 ],
 "metadata": {
  "celltoolbar": "Tags",
  "hide_input": false,
  "kernelspec": {
   "display_name": "Python 3",
   "language": "python",
   "name": "python3"
  },
  "language_info": {
   "codemirror_mode": {
    "name": "ipython",
    "version": 3
   },
   "file_extension": ".py",
   "mimetype": "text/x-python",
   "name": "python",
   "nbconvert_exporter": "python",
   "pygments_lexer": "ipython3",
   "version": "3.8.2"
  },
  "papermill": {
   "duration": 0.727728,
   "end_time": "2020-08-17T19:57:24.494284",
   "environment_variables": {},
   "exception": null,
   "input_path": "binder/cli-simple/simple_input.ipynb",
   "output_path": "binder/cli-simple/simple_output.ipynb",
   "parameters": {
    "msg": "Hello"
   },
   "start_time": "2020-08-17T19:57:23.766556",
   "version": "2.1.3"
  }
 },
 "nbformat": 4,
 "nbformat_minor": 1
}