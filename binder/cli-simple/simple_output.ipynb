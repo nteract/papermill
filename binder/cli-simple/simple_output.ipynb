{
 "cells": [
  {
   "cell_type": "markdown",
   "id": "df2b0bde",
   "metadata": {
    "papermill": {
     "duration": 0.003083,
     "end_time": "2023-11-01T18:34:41.235066",
     "exception": false,
     "start_time": "2023-11-01T18:34:41.231983",
     "status": "completed"
    },
    "tags": []
   },
   "source": [
    "# Simple input notebook with parameters"
   ]
  },
  {
   "cell_type": "code",
   "execution_count": 1,
   "id": "0d7af2f3",
   "metadata": {
    "execution": {
     "iopub.execute_input": "2023-11-01T18:34:41.301099Z",
     "iopub.status.busy": "2023-11-01T18:34:41.300307Z",
     "iopub.status.idle": "2023-11-01T18:34:41.306171Z",
     "shell.execute_reply": "2023-11-01T18:34:41.305038Z"
    },
    "papermill": {
     "duration": 0.012465,
     "end_time": "2023-11-01T18:34:41.308519",
     "exception": false,
     "start_time": "2023-11-01T18:34:41.296054",
     "status": "completed"
    },
    "tags": [
     "parameters"
    ]
   },
   "outputs": [],
   "source": [
    "msg = None"
   ]
  },
  {
   "cell_type": "code",
   "execution_count": 2,
   "id": "a5d4ad35",
   "metadata": {
    "execution": {
     "iopub.execute_input": "2023-11-01T18:34:41.314681Z",
     "iopub.status.busy": "2023-11-01T18:34:41.314338Z",
     "iopub.status.idle": "2023-11-01T18:34:41.318662Z",
     "shell.execute_reply": "2023-11-01T18:34:41.317802Z"
    },
    "papermill": {
     "duration": 0.010058,
     "end_time": "2023-11-01T18:34:41.320883",
     "exception": false,
     "start_time": "2023-11-01T18:34:41.310825",
     "status": "completed"
    },
    "tags": [
     "injected-parameters"
    ]
   },
   "outputs": [],
   "source": [
    "# Parameters\n",
    "msg = \"Hello\"\n"
   ]
  },
  {
   "cell_type": "code",
   "execution_count": 3,
   "id": "99512b79",
   "metadata": {
    "execution": {
     "iopub.execute_input": "2023-11-01T18:34:41.327359Z",
     "iopub.status.busy": "2023-11-01T18:34:41.326530Z",
     "iopub.status.idle": "2023-11-01T18:34:41.333035Z",
     "shell.execute_reply": "2023-11-01T18:34:41.331879Z"
    },
    "papermill": {
     "duration": 0.012117,
     "end_time": "2023-11-01T18:34:41.335151",
     "exception": false,
     "start_time": "2023-11-01T18:34:41.323034",
     "status": "completed"
    },
    "tags": []
   },
   "outputs": [
    {
     "name": "stdout",
     "output_type": "stream",
     "text": [
      "Hello\n"
     ]
    }
   ],
   "source": [
    "print(msg)"
   ]
  }
 ],
 "metadata": {
  "celltoolbar": "Tags",
  "hide_input": false,
  "kernelspec": {
   "display_name": "Python 3",
   "language": "python",
   "name": "python3"
  },
  "language_info": {
   "codemirror_mode": {
    "name": "ipython",
    "version": 3
   },
   "file_extension": ".py",
   "mimetype": "text/x-python",
   "name": "python",
   "nbconvert_exporter": "python",
   "pygments_lexer": "ipython3",
   "version": "3.12.0"
  },
  "papermill": {
   "default_parameters": {},
   "duration": 1.612177,
   "end_time": "2023-11-01T18:34:41.659543",
   "environment_variables": {},
   "exception": null,
   "input_path": "binder/cli-simple/simple_input.ipynb",
   "output_path": "binder/cli-simple/simple_output.ipynb",
   "parameters": {
    "msg": "Hello"
   },
   "start_time": "2023-11-01T18:34:40.047366",
   "version": "2.4.0"
  }
 },
 "nbformat": 4,
 "nbformat_minor": 5
}
