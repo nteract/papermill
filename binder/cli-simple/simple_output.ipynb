{
 "cells": [
  {
   "cell_type": "markdown",
   "metadata": {
    "papermill": {
     "duration": 0.008268,
     "end_time": "2020-03-31T22:13:45.530631",
     "exception": false,
     "start_time": "2020-03-31T22:13:45.522363",
     "status": "completed"
    },
    "tags": []
   },
   "source": [
    "# Simple input notebook with parameters"
   ]
  },
  {
   "cell_type": "code",
   "execution_count": 1,
   "metadata": {
    "execution": {
     "iopub.execute_input": "2020-03-31T22:13:45.571537Z",
     "iopub.status.busy": "2020-03-31T22:13:45.565912Z",
     "iopub.status.idle": "2020-03-31T22:13:45.573254Z",
     "shell.execute_reply": "2020-03-31T22:13:45.568463Z"
    },
    "papermill": {
     "duration": 0.02564,
     "end_time": "2020-03-31T22:13:45.573471",
     "exception": false,
     "start_time": "2020-03-31T22:13:45.547831",
     "status": "completed"
    },
    "tags": [
     "parameters"
    ]
   },
   "outputs": [],
   "source": [
    "msg = None"
   ]
  },
  {
   "cell_type": "code",
   "execution_count": 2,
   "metadata": {
    "execution": {
     "iopub.execute_input": "2020-03-31T22:13:45.631535Z",
     "iopub.status.busy": "2020-03-31T22:13:45.627605Z",
     "iopub.status.idle": "2020-03-31T22:13:45.633788Z",
     "shell.execute_reply": "2020-03-31T22:13:45.626311Z"
    },
    "papermill": {
     "duration": 0.046538,
     "end_time": "2020-03-31T22:13:45.634929",
     "exception": false,
     "start_time": "2020-03-31T22:13:45.588391",
     "status": "completed"
    },
    "tags": [
     "injected-parameters"
    ]
   },
   "outputs": [],
   "source": [
    "# Parameters\n",
    "msg = \"Hello\"\n"
   ]
  },
  {
   "cell_type": "code",
   "execution_count": 3,
   "metadata": {
    "execution": {
     "iopub.execute_input": "2020-03-31T22:13:45.745359Z",
     "iopub.status.busy": "2020-03-31T22:13:45.731399Z",
     "iopub.status.idle": "2020-03-31T22:13:45.780277Z",
     "shell.execute_reply": "2020-03-31T22:13:45.756062Z"
    },
    "papermill": {
     "duration": 0.104207,
     "end_time": "2020-03-31T22:13:45.783570",
     "exception": false,
     "start_time": "2020-03-31T22:13:45.679363",
     "status": "completed"
    },
    "tags": []
   },
   "outputs": [
    {
     "name": "stdout",
     "output_type": "stream",
     "text": [
      "Hello\n"
     ]
    }
   ],
   "source": [
    "print(msg)"
   ]
  }
 ],
 "metadata": {
  "celltoolbar": "Tags",
  "hide_input": false,
  "kernelspec": {
   "display_name": "Python 3",
   "language": "python",
   "name": "python3"
  },
  "language_info": {
   "codemirror_mode": {
    "name": "ipython",
    "version": 3
   },
   "file_extension": ".py",
   "mimetype": "text/x-python",
   "name": "python",
   "nbconvert_exporter": "python",
   "pygments_lexer": "ipython3",
   "version": "3.6.7"
  },
  "papermill": {
   "duration": 2.644132,
   "end_time": "2020-03-31T22:13:45.995934",
   "environment_variables": {},
   "exception": null,
   "input_path": "binder/cli-simple/simple_input.ipynb",
   "output_path": "binder/cli-simple/simple_output.ipynb",
   "parameters": {
    "msg": "Hello"
   },
   "start_time": "2020-03-31T22:13:43.351802",
   "version": "2.0.0"
  }
 },
 "nbformat": 4,
 "nbformat_minor": 1
}