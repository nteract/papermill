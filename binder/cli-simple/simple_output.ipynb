{
 "cells": [
  {
   "cell_type": "markdown",
   "metadata": {
    "papermill": {
     "duration": 0.019085,
     "end_time": "2020-06-15T00:38:19.879972",
     "exception": false,
     "start_time": "2020-06-15T00:38:19.860887",
     "status": "completed"
    },
    "tags": []
   },
   "source": [
    "# Simple input notebook with parameters"
   ]
  },
  {
   "cell_type": "code",
   "execution_count": 1,
   "metadata": {
    "execution": {
     "iopub.execute_input": "2020-06-15T00:38:19.895422Z",
     "iopub.status.busy": "2020-06-15T00:38:19.894896Z",
     "iopub.status.idle": "2020-06-15T00:38:19.896926Z",
     "shell.execute_reply": "2020-06-15T00:38:19.897449Z"
    },
    "papermill": {
     "duration": 0.009661,
     "end_time": "2020-06-15T00:38:19.897597",
     "exception": false,
     "start_time": "2020-06-15T00:38:19.887936",
     "status": "completed"
    },
    "tags": [
     "parameters"
    ]
   },
   "outputs": [],
   "source": [
    "msg = None"
   ]
  },
  {
   "cell_type": "code",
   "execution_count": 2,
   "metadata": {
    "execution": {
     "iopub.execute_input": "2020-06-15T00:38:19.905246Z",
     "iopub.status.busy": "2020-06-15T00:38:19.904797Z",
     "iopub.status.idle": "2020-06-15T00:38:19.906324Z",
     "shell.execute_reply": "2020-06-15T00:38:19.906762Z"
    },
    "papermill": {
     "duration": 0.006814,
     "end_time": "2020-06-15T00:38:19.906867",
     "exception": false,
     "start_time": "2020-06-15T00:38:19.900053",
     "status": "completed"
    },
    "tags": [
     "injected-parameters"
    ]
   },
   "outputs": [],
   "source": [
    "# Parameters\n",
    "msg = \"Hello\"\n"
   ]
  },
  {
   "cell_type": "code",
   "execution_count": 3,
   "metadata": {
    "execution": {
     "iopub.execute_input": "2020-06-15T00:38:19.914520Z",
     "iopub.status.busy": "2020-06-15T00:38:19.914053Z",
     "iopub.status.idle": "2020-06-15T00:38:19.916372Z",
     "shell.execute_reply": "2020-06-15T00:38:19.915909Z"
    },
    "papermill": {
     "duration": 0.00722,
     "end_time": "2020-06-15T00:38:19.916452",
     "exception": false,
     "start_time": "2020-06-15T00:38:19.909232",
     "status": "completed"
    },
    "tags": []
   },
   "outputs": [
    {
     "name": "stdout",
     "output_type": "stream",
     "text": [
      "Hello\n"
     ]
    }
   ],
   "source": [
    "print(msg)"
   ]
  }
 ],
 "metadata": {
  "celltoolbar": "Tags",
  "hide_input": false,
  "kernelspec": {
   "display_name": "Python 3",
   "language": "python",
   "name": "python3"
  },
  "language_info": {
   "codemirror_mode": {
    "name": "ipython",
    "version": 3
   },
   "file_extension": ".py",
   "mimetype": "text/x-python",
   "name": "python",
   "nbconvert_exporter": "python",
   "pygments_lexer": "ipython3",
   "version": "3.8.2"
  },
  "papermill": {
   "duration": 0.823709,
   "end_time": "2020-06-15T00:38:20.126604",
   "environment_variables": {},
   "exception": null,
   "input_path": "binder/cli-simple/simple_input.ipynb",
   "output_path": "binder/cli-simple/simple_output.ipynb",
   "parameters": {
    "msg": "Hello"
   },
   "start_time": "2020-06-15T00:38:19.302895",
   "version": "2.1.1"
  }
 },
 "nbformat": 4,
 "nbformat_minor": 1
}