{
 "cells": [
  {
   "cell_type": "code",
   "execution_count": null,
   "metadata": {
    "papermill": {
     "duration": 0.014022,
     "end_time": "2019-01-25T15:29:22.346035",
     "exception": false,
     "start_time": "2019-01-25T15:29:22.332013",
     "status": "completed"
    },
    "tags": [
     "parameters"
    ]
   },
   "outputs": [],
   "source": [
    "msg = None"
   ]
  },
  {
   "cell_type": "code",
   "execution_count": null,
   "metadata": {
    "papermill": {
     "duration": 0.008221,
     "end_time": "2019-01-25T15:29:22.356926",
     "exception": false,
     "start_time": "2019-01-25T15:29:22.348705",
     "status": "completed"
    },
    "tags": [
     "injected-parameters"
    ]
   },
   "outputs": [],
   "source": [
    "# Parameters\n",
    "msg = \"Hello\"\n"
   ]
  },
  {
   "cell_type": "code",
   "execution_count": null,
   "metadata": {
    "papermill": {
     "duration": 0.009171,
     "end_time": "2019-01-25T15:29:22.368420",
     "exception": false,
     "start_time": "2019-01-25T15:29:22.359249",
     "status": "completed"
    },
    "tags": []
   },
   "outputs": [],
   "source": [
    "print(msg)"
   ]
  },
  {
   "cell_type": "code",
   "execution_count": null,
   "metadata": {
    "papermill": {
     "duration": 0.002292,
     "end_time": "2019-01-25T15:29:22.373403",
     "exception": false,
     "start_time": "2019-01-25T15:29:22.371111",
     "status": "completed"
    },
    "tags": []
   },
   "outputs": [],
   "source": []
  }
 ],
 "metadata": {
  "celltoolbar": "Tags",
  "hide_input": false,
  "kernelspec": {
   "display_name": "Python 3",
   "language": "python",
   "name": "python3"
  },
  "language_info": {
   "codemirror_mode": {
    "name": "ipython",
    "version": 3
   },
   "file_extension": ".py",
   "mimetype": "text/x-python",
   "name": "python",
   "nbconvert_exporter": "python",
   "pygments_lexer": "ipython3",
   "version": "3.7.2"
  },
  "papermill": {
   "duration": 1.287311,
   "end_time": "2019-01-25T15:29:22.741738",
   "environment_variables": {},
   "exception": null,
   "input_path": "papermill/tests/notebooks/simple_execute.ipynb",
   "output_path": "papermill/tests/notebooks/simple_output.ipynb",
   "parameters": {
    "msg": "Hello"
   },
   "start_time": "2019-01-25T15:29:21.454427",
   "version": "0.17.1+32.g9f13851.dirty"
  }
 },
 "nbformat": 4,
 "nbformat_minor": 1
}
