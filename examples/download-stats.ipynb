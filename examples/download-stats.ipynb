{
 "cells": [
  {
   "cell_type": "markdown",
   "metadata": {},
   "source": [
    "# Download counts for nteract"
   ]
  },
  {
   "cell_type": "code",
   "execution_count": null,
   "metadata": {},
   "outputs": [],
   "source": [
    "!pip install matplotlib seaborn"
   ]
  },
  {
   "cell_type": "code",
   "execution_count": null,
   "metadata": {},
   "outputs": [],
   "source": [
    "import IPython.display\n",
    "import pandas as pd"
   ]
  },
  {
   "cell_type": "code",
   "execution_count": null,
   "metadata": {},
   "outputs": [],
   "source": [
    "import requests\n",
    "\n",
    "# Note: \n",
    "data = requests.get('https://api.github.com/repos/nteract/nteract/releases').json()"
   ]
  },
  {
   "cell_type": "code",
   "execution_count": null,
   "metadata": {},
   "outputs": [],
   "source": [
    "print(\"{}:\\n\\t{}\\n\\t{}\".format(\n",
    "  data[0]['tag_name'],\n",
    "  data[0]['assets'][0]['browser_download_url'],\n",
    "  data[0]['assets'][0]['download_count']\n",
    "))\n"
   ]
  },
  {
   "cell_type": "markdown",
   "metadata": {},
   "source": [
    "The releases API only has context of the filename, so we'll convert:\n",
    "\n",
    "```\n",
    "https://github.com/nteract/nteract/releases/download/v0.0.13/nteract-darwin-x64.zip\n",
    "```\n",
    "\n",
    "to\n",
    "\n",
    "```\n",
    "darwin-x64\n",
    "```\n",
    "\n",
    "Which means we're reliant on our release naming to keep this a nice consistent structure"
   ]
  },
  {
   "cell_type": "code",
   "execution_count": null,
   "metadata": {},
   "outputs": [],
   "source": [
    "def strip_off_release(browser_download_url):\n",
    "    filename = browser_download_url.split('/')[-1]\n",
    "    basename = filename.split('.')[0]\n",
    "    system = basename.split('-')[1:]\n",
    "    return \"-\".join(system)"
   ]
  },
  {
   "cell_type": "code",
   "execution_count": null,
   "metadata": {},
   "outputs": [],
   "source": [
    "releases = [\n",
    "  {\n",
    "    'version': x['tag_name'], \n",
    "    'counts': { strip_off_release(y['browser_download_url']): y['download_count'] for y in x['assets'] }\n",
    "  } \n",
    "    for x in data\n",
    "]\n",
    "releases"
   ]
  },
  {
   "cell_type": "code",
   "execution_count": null,
   "metadata": {
    "scrolled": true
   },
   "outputs": [],
   "source": [
    "versions = []\n",
    "frames = []\n",
    "\n",
    "for release in releases:\n",
    "    versions.append(release['version'])\n",
    "    frames.append(pd.DataFrame.from_dict(release['counts'], orient='index'))\n",
    "\n",
    "df = pd.concat(frames, keys=versions).reset_index()\n",
    "df.columns = ['version', 'os', 'count']\n",
    "df['os'] = df.os.replace('os-x', 'darwin-x64')\n",
    "df"
   ]
  },
  {
   "cell_type": "markdown",
   "metadata": {},
   "source": [
    "It would be really interesting to know how these counts change over time."
   ]
  },
  {
   "cell_type": "code",
   "execution_count": null,
   "metadata": {},
   "outputs": [],
   "source": [
    "from distutils.version import LooseVersion\n",
    "\n",
    "versions = set(df.version.values.tolist())\n",
    "versions = sorted(versions, key=LooseVersion)"
   ]
  },
  {
   "cell_type": "code",
   "execution_count": null,
   "metadata": {
    "scrolled": false
   },
   "outputs": [],
   "source": [
    "import matplotlib.pyplot as plt\n",
    "import seaborn as sns\n",
    "%matplotlib inline\n",
    "%config InlineBackend.figure_format = 'retina'\n",
    "\n",
    "with sns.color_palette(\"colorblind\", len(versions)):\n",
    "    fig = plt.figure(figsize=(10, 6))\n",
    "    ax = fig.add_subplot(1, 1, 1)\n",
    "    ax = sns.barplot(x='version', y=\"count\", hue=\"os\", data=df, order=versions)\n",
    "    ax.set_xticklabels(versions, rotation=30)\n",
    "    ax.set(xlabel='Version', ylabel='Count')\n",
    "    plt.legend(bbox_to_anchor=(1, 1), loc=2, borderaxespad=0)\n",
    "    plt.show()"
   ]
  }
 ],
 "metadata": {
  "anaconda-cloud": {},
  "kernel_info": {
   "name": "python3"
  },
  "kernelspec": {
   "display_name": "Python 3",
   "language": "python",
   "name": "python3"
  },
  "language_info": {
   "codemirror_mode": {
    "name": "ipython",
    "version": 3
   },
   "file_extension": ".py",
   "mimetype": "text/x-python",
   "name": "python",
   "nbconvert_exporter": "python",
   "pygments_lexer": "ipython3",
   "version": "3.6.5"
  },
  "nteract": {
   "version": "0.8.3"
  }
 },
 "nbformat": 4,
 "nbformat_minor": 1
}
