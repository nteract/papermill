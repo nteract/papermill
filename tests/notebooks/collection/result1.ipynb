{
 "cells": [
  {
   "cell_type": "code",
   "execution_count": 1,
   "metadata": {
    "tags": [
     "parameters"
    ]
   },
   "outputs": [],
   "source": [
    "# Parameters\n",
    "foo = 1\n",
    "bar = \"hello\"\n"
   ]
  },
  {
   "cell_type": "code",
   "execution_count": 2,
   "metadata": {
    "papermill": {},
    "tags": []
   },
   "outputs": [
    {
     "data": {
      "application/papermill.record+json": {
       "number": 1
      }
     },
     "metadata": {},
     "output_type": "display_data"
    },
    {
     "data": {
      "application/papermill.record+json": {
       "list": [
        1,
        2,
        3
       ]
      }
     },
     "metadata": {},
     "output_type": "display_data"
    },
    {
     "data": {
      "application/papermill.record+json": {
       "dict": {
        "a": 1,
        "b": 2
       }
      }
     },
     "metadata": {},
     "output_type": "display_data"
    },
    {
     "data": {
      "text/plain": [
       "'Hello World!'"
      ]
     },
     "metadata": {
      "papermill": {
       "name": "output"
      }
     },
     "output_type": "display_data"
    }
   ],
   "source": [
    "import papermill as pm\n",
    "\n",
    "pm.record(\"number\", 1)\n",
    "pm.record(\"list\", [1,2,3])\n",
    "pm.record(\"dict\", dict(a=1, b=2))\n",
    "\n",
    "pm.display(\"output\", \"Hello World!\")"
   ]
  }
 ],
 "metadata": {
  "celltoolbar": "Tags",
  "hide_input": false,
  "kernelspec": {
   "display_name": "Python 2",
   "language": "python",
   "name": "python2"
  },
  "language_info": {
   "codemirror_mode": {
    "name": "ipython",
    "version": 2.0
   },
   "file_extension": ".py",
   "mimetype": "text/x-python",
   "name": "python",
   "nbconvert_exporter": "python",
   "pygments_lexer": "ipython2",
   "version": "2.7.12"
  },
  "papermill": {
   "environment_variables": {},
   "metrics": {
    "duration": 2.250469923019409
   },
   "parameters": {
    "bar": "hello",
    "foo": 1
   },
   "version": "0.4+2.ge10f94c.dirty"
  }
 },
 "nbformat": 4,
 "nbformat_minor": 0
}
