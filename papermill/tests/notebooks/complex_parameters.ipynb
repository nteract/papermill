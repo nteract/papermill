{
 "cells": [
  {
   "cell_type": "code",
   "execution_count": null,
   "metadata": {
    "tags": [
     "parameters"
    ]
   },
   "outputs": [],
   "source": [
    "msg = None\n",
    "a: float = 2.25 # Variable a\n",
    "b = [\n",
    "    'Hello', # First element\n",
    "# Dummy comment\n",
    "    'World'\n",
    "] # type: List[str] Nice list\n",
    "\n",
    "# Interesting c variable\n",
    "c: \"NoneType\" = None\n",
    "# Not introspectable line\n",
    "d = a == 3\n",
    "# Broken name definition\n",
    "= 2"
   ]
  }
 ],
 "metadata": {
  "celltoolbar": "Tags",
  "hide_input": false,
  "kernelspec": {
   "display_name": "Python 3",
   "language": "python",
   "name": "python3"
  },
  "language_info": {
   "codemirror_mode": {
    "name": "ipython",
    "version": 3
   },
   "file_extension": ".py",
   "mimetype": "text/x-python",
   "name": "python",
   "nbconvert_exporter": "python",
   "pygments_lexer": "ipython3",
   "version": "3.7.6"
  }
 },
 "nbformat": 4,
 "nbformat_minor": 4
}
