{
 "cells": [
  {
   "cell_type": "markdown",
   "id": "a0730871-38e0-4f31-9466-1a117965e5a1",
   "metadata": {},
   "source": [
    "### Markdown cell"
   ]
  },
  {
   "cell_type": "raw",
   "id": "00000b67-913e-459a-80dc-2520b2483d7d",
   "metadata": {},
   "source": [
    "Raw cell"
   ]
  },
  {
   "cell_type": "code",
   "execution_count": null,
   "id": "7979d49a-abb1-4815-9534-ad76e4505b56",
   "metadata": {
    "tags": [
     "assigncell"
    ]
   },
   "outputs": [],
   "source": [
    "a = 1"
   ]
  },
  {
   "cell_type": "code",
   "execution_count": null,
   "id": "778581dd-f385-4039-be97-4050615fa271",
   "metadata": {
    "tags": [
     "printcell"
    ]
   },
   "outputs": [],
   "source": [
    "print(a)"
   ]
  }
 ],
 "metadata": {
  "kernelspec": {
   "display_name": "Python 3 (ipykernel)",
   "language": "python",
   "name": "python3"
  },
  "language_info": {
   "codemirror_mode": {
    "name": "ipython",
    "version": 3
   },
   "file_extension": ".py",
   "mimetype": "text/x-python",
   "name": "python",
   "nbconvert_exporter": "python",
   "pygments_lexer": "ipython3",
   "version": "3.11.2"
  }
 },
 "nbformat": 4,
 "nbformat_minor": 5
}
