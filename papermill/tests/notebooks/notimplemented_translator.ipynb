{
 "cells": [
  {
   "cell_type": "code",
   "execution_count": null,
   "metadata": {
    "tags": [
     "parameters"
    ]
   },
   "outputs": [],
   "source": [
    "msg = None"
   ]
  }
 ],
 "metadata": {
  "kernelspec": {
   "display_name": "r",
   "language": "R",
   "name": "r"
  },
  "language_info": {
   "name": ""
  }
 },
 "nbformat": 4,
 "nbformat_minor": 4
}
